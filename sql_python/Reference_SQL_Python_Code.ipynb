{
 "cells": [
  {
   "cell_type": "markdown",
   "metadata": {
    "id": "bCzf8Vrz92eS"
   },
   "source": [
    "## Importing Libraries"
   ]
  },
  {
   "cell_type": "code",
   "execution_count": 3,
   "metadata": {
    "id": "XcRZyiZk92eT"
   },
   "outputs": [],
   "source": [
    "import pandas as pd\n",
    "import numpy as np\n",
    "from pandas_profiling import ProfileReport\n",
    "\n",
    "\n",
    "%matplotlib inline\n",
    "from matplotlib import pyplot as plt"
   ]
  },
  {
   "cell_type": "code",
   "execution_count": 4,
   "metadata": {
    "colab": {
     "base_uri": "https://localhost:8080/"
    },
    "id": "-BtsGRLr92eT",
    "outputId": "3c7a6262-8d43-442d-df5c-b9d386d8d7af"
   },
   "outputs": [],
   "source": [
    "from sklearn.linear_model import LinearRegression\n",
    "import statsmodels.api as sm  \n",
    "from statsmodels.regression.linear_model import RegressionResults\n",
    "import csv\n",
    "import json"
   ]
  },
  {
   "cell_type": "markdown",
   "metadata": {},
   "source": [
    "### SQL"
   ]
  },
  {
   "cell_type": "code",
   "execution_count": 1,
   "metadata": {},
   "outputs": [],
   "source": [
    "import sqlite3\n",
    "cnx = sqlite3.connect(':memory:')\n",
    "#function for the SQL queries below\n",
    "def sql_query(query):\n",
    "    return pd.read_sql(query, cnx)"
   ]
  },
  {
   "cell_type": "code",
   "execution_count": 3,
   "metadata": {},
   "outputs": [],
   "source": [
    "df.to_sql('df', con=cnx, if_exists='replace', index=False)\n",
    "query = ''' \n",
    "SELECT \n",
    "    *\n",
    "FROM \n",
    "    df\n",
    "'''\n",
    "res_df = sql_query(query)"
   ]
  },
  {
   "cell_type": "markdown",
   "metadata": {},
   "source": [
    "### Visualizations"
   ]
  },
  {
   "cell_type": "markdown",
   "metadata": {},
   "source": [
    "#### 1. Pandas Profiling"
   ]
  },
  {
   "cell_type": "code",
   "execution_count": 41,
   "metadata": {
    "colab": {
     "referenced_widgets": [
      "caed657ad71d4541904208df820af818",
      "20d3689eb84248d3b408a494dbb1d8da",
      "f49ff8703ae1419b8135118ad15f5ae5",
      "16addd9db94b49abb829b6f59465342a"
     ]
    },
    "id": "cKFes7qC92eT",
    "outputId": "ce2a3362-b50f-4c49-9227-3191e012d074"
   },
   "outputs": [],
   "source": [
    "profile = ProfileReport(pd.DataFrame(meas['Value']), minimal=True)\n",
    "profile.to_file(output_file=\"MeasuredObesity.html\")"
   ]
  },
  {
   "cell_type": "markdown",
   "metadata": {},
   "source": [
    "#### 2. Subplots"
   ]
  },
  {
   "cell_type": "markdown",
   "metadata": {},
   "source": [
    "#### 3. Dynamic Plots: Plotly & Seaborn"
   ]
  }
 ],
 "metadata": {
  "colab": {
   "name": "RA Booth.ipynb",
   "provenance": []
  },
  "kernelspec": {
   "display_name": "Python 3",
   "language": "python",
   "name": "python3"
  },
  "language_info": {
   "codemirror_mode": {
    "name": "ipython",
    "version": 3
   },
   "file_extension": ".py",
   "mimetype": "text/x-python",
   "name": "python",
   "nbconvert_exporter": "python",
   "pygments_lexer": "ipython3",
   "version": "3.8.5"
  }
 },
 "nbformat": 4,
 "nbformat_minor": 1
}
