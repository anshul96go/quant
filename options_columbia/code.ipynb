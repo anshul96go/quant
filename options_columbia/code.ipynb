{
 "cells": [
  {
   "cell_type": "markdown",
   "id": "35563e8c",
   "metadata": {},
   "source": [
    "# BS Model\n",
    "- d1, d2 \n",
    "- $\\Delta$\n",
    "- $\\nu$\n",
    "- Call & Put Price\n",
    "- Implied Vol"
   ]
  },
  {
   "cell_type": "code",
   "execution_count": 1,
   "id": "631adb89",
   "metadata": {},
   "outputs": [],
   "source": [
    "import numpy as np\n",
    "from scipy.stats import norm"
   ]
  },
  {
   "cell_type": "code",
   "execution_count": 2,
   "id": "d18dcd5c",
   "metadata": {},
   "outputs": [],
   "source": [
    "def bs_call(S_o, K, r, T, sigma):\n",
    "    d1 = (np.log(S_o/K) + ((r+(sigma**2)*0.5)*T))/(sigma*np.sqrt(T))\n",
    "    d2 = d1 - (sigma*np.sqrt(T))\n",
    "    c = (S_o*norm.cdf(d1)) - (K*np.exp(-1*r*T)*norm.cdf(d2))\n",
    "    return c\n",
    "\n",
    "def bs_put(S_o, K, r, T, sigma):\n",
    "    d1 = (np.log(S_o/K) + ((r+(sigma**2)*0.5)*T))/(sigma*np.sqrt(T))\n",
    "    d2 = d1 - (sigma*np.sqrt(T))\n",
    "    p = -(S_o*norm.cdf(-d1)) + (K*np.exp(-1*r*T)*norm.cdf(-d2))\n",
    "    return p\n",
    "\n",
    "def bs_vega(S_o, K, r, T, sigma):\n",
    "    d1 = (np.log(S_o/K) + ((r+(sigma**2)*0.5)*T))/(sigma*np.sqrt(T))\n",
    "    vega = S_o * norm.pdf(d1) * np.sqrt(T)\n",
    "    return vega\n",
    "\n",
    "def bs_delta(S_o, K, r, T, sigma):\n",
    "    d1 = (np.log(S_o/K) + ((r+(sigma**2)*0.5)*T))/(sigma*np.sqrt(T))\n",
    "    delta = norm.cdf(d1)\n",
    "    return delta\n",
    "\n",
    "def get_implied_vol(S_o, K, r, T, c, initial_sigma = 0.1, threshold = 0.0001,max_iterations=1000):\n",
    "    sigma = initial_sigma\n",
    "    for i in range(max_iterations):\n",
    "        calculated_call = bs_call(S_o, K, r, T, sigma)\n",
    "#         print(calculated_call)\n",
    "        vega = bs_vega(S_o, K, r, T, sigma)\n",
    "#         print(vega)\n",
    "        diff = c - calculated_call\n",
    "        if abs(diff)<threshold:\n",
    "            return sigma\n",
    "        sigma=sigma+diff/vega\n",
    "#     print(\"maximum iterations used\")\n",
    "    return sigma\n",
    "\n",
    "\n",
    "def BMS_d1(S, K, r, q, sigma, tau):\n",
    "    ''' Computes d1 for the Black Merton Scholes formula '''\n",
    "    d1 = 1.0*(np.log(1.0 * S/K) + (r - q + sigma**2/2) * tau) / (sigma * np.sqrt(tau))\n",
    "    return d1\n",
    "\n",
    "def BMS_d2(S, K, r, q, sigma, tau):\n",
    "    ''' Computes d2 for the Black Merton Scholes formula '''\n",
    "    d2 = 1.0*(np.log(1.0 * S/K) + (r - q - sigma**2/2) * tau) / (sigma * np.sqrt(tau))\n",
    "    return d2\n",
    "\n",
    "def BMS_price(type_option, S, K, r, q, sigma, T, t=0):\n",
    "    ''' Computes the Black Merton Scholes price for a 'call' or 'put' option '''\n",
    "    tau = T - t\n",
    "    d1 = BMS_d1(S, K, r, q, sigma, tau)\n",
    "    d2 = BMS_d2(S, K, r, q, sigma, tau)\n",
    "    if type_option == 'call':\n",
    "        price = S * np.exp(-q * tau) * norm.cdf(d1) - K * np.exp(-r * tau) * norm.cdf(d2)\n",
    "    elif type_option == 'put':\n",
    "        price = K * np.exp(-r * tau) * norm.cdf(-d2) - S * np.exp(-q * tau) * norm.cdf(-d1) \n",
    "    return price\n",
    "\n",
    "def BMS_delta(type_option, S, K, r, q, sigma, T, t=0):\n",
    "    ''' Computes the delta for a call or a put. '''\n",
    "    tau = T - t\n",
    "    d1 = BMS_d1(S, K, r, q, sigma, tau)\n",
    "    if type_option == 'call':\n",
    "        delta = np.exp(-q * tau) * norm.cdf(d1)\n",
    "    elif type_option == 'put':\n",
    "        delta = np.exp(-q * tau) * (norm.cdf(d1) - 1)\n",
    "    return delta"
   ]
  },
  {
   "cell_type": "markdown",
   "id": "28db509d",
   "metadata": {},
   "source": [
    "# Call Price = $\\Delta$ Hedging\n",
    "\n",
    "Cost of delta hedging in Black-Merton-Scholes (BMS) Model (Call) when r,q>0"
   ]
  },
  {
   "cell_type": "code",
   "execution_count": null,
   "id": "890ec4ae",
   "metadata": {},
   "outputs": [],
   "source": []
  }
 ],
 "metadata": {
  "kernelspec": {
   "display_name": "Python 3 (ipykernel)",
   "language": "python",
   "name": "python3"
  },
  "language_info": {
   "codemirror_mode": {
    "name": "ipython",
    "version": 3
   },
   "file_extension": ".py",
   "mimetype": "text/x-python",
   "name": "python",
   "nbconvert_exporter": "python",
   "pygments_lexer": "ipython3",
   "version": "3.11.5"
  }
 },
 "nbformat": 4,
 "nbformat_minor": 5
}
